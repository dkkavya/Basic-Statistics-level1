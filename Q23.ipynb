{
  "nbformat": 4,
  "nbformat_minor": 0,
  "metadata": {
    "colab": {
      "provenance": [],
      "collapsed_sections": []
    },
    "kernelspec": {
      "name": "python3",
      "display_name": "Python 3"
    },
    "language_info": {
      "name": "python"
    }
  },
  "cells": [
    {
      "cell_type": "markdown",
      "source": [
        "**            Q 23) Calculate the t scores of 95% confidence interval, 96% confidence interval, 99% confidence interval for sample size of 25.**"
      ],
      "metadata": {
        "id": "9xgGG5HJwUV9"
      }
    },
    {
      "cell_type": "code",
      "execution_count": null,
      "metadata": {
        "id": "sWxze2Ac8qmn"
      },
      "outputs": [],
      "source": [
        "from scipy import stats\n",
        "from scipy.stats import norm"
      ]
    },
    {
      "cell_type": "code",
      "source": [
        "### t score of 95% confidence interval\n",
        "## for 95%  A = (1+0.95)/2 = 0.975. df = n-1 = 25-1=24\n",
        "\n",
        "stats.t.ppf(0.975,24)"
      ],
      "metadata": {
        "colab": {
          "base_uri": "https://localhost:8080/"
        },
        "id": "nX5akV4E8us0",
        "outputId": "8f8f1e37-bfcd-4c8c-e310-c2b0e11982fc"
      },
      "execution_count": null,
      "outputs": [
        {
          "output_type": "execute_result",
          "data": {
            "text/plain": [
              "2.0638985616280205"
            ]
          },
          "metadata": {},
          "execution_count": 2
        }
      ]
    },
    {
      "cell_type": "code",
      "source": [
        "### t score of 96% confidence interval\n",
        "## for 96%  A = (1+0.96)/2 = 0.98. df = n-1 = 25-1=24\n",
        "\n",
        "stats.t.ppf(0.98,24)"
      ],
      "metadata": {
        "colab": {
          "base_uri": "https://localhost:8080/"
        },
        "id": "qbUgQ8hO85EB",
        "outputId": "1437b88d-a185-4def-c423-c56b3713828d"
      },
      "execution_count": null,
      "outputs": [
        {
          "output_type": "execute_result",
          "data": {
            "text/plain": [
              "2.1715446760080677"
            ]
          },
          "metadata": {},
          "execution_count": 3
        }
      ]
    },
    {
      "cell_type": "code",
      "source": [
        "### t score of 99% confidence interval\n",
        "## for 99%  A = (1+0.99)/2 = 0.995. df = n-1 = 25-1=24\n",
        "\n",
        "stats.t.ppf(0.995,24)"
      ],
      "metadata": {
        "colab": {
          "base_uri": "https://localhost:8080/"
        },
        "id": "wqVOgx9w8-vA",
        "outputId": "7e80b990-13f2-4ec0-af7e-5d96be2dae43"
      },
      "execution_count": null,
      "outputs": [
        {
          "output_type": "execute_result",
          "data": {
            "text/plain": [
              "2.796939504772804"
            ]
          },
          "metadata": {},
          "execution_count": 4
        }
      ]
    },
    {
      "cell_type": "code",
      "source": [],
      "metadata": {
        "id": "boSWNCFo9DUa"
      },
      "execution_count": null,
      "outputs": []
    }
  ]
}